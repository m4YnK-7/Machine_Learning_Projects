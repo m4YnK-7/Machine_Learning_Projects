{
 "cells": [
  {
   "cell_type": "code",
   "execution_count": 18,
   "id": "a04d983e",
   "metadata": {},
   "outputs": [],
   "source": [
    "import numpy as np\n",
    "import pandas as pd\n",
    "import matplotlib.pyplot as plt\n",
    "import seaborn as sns"
   ]
  },
  {
   "cell_type": "code",
   "execution_count": 19,
   "id": "16deb87a",
   "metadata": {},
   "outputs": [
    {
     "data": {
      "text/plain": [
       "'C:\\\\Users\\\\Mayank Singh\\\\Desktop\\\\Stuff\\\\Machine_Learning_Projects\\\\Housing_Price_Prediction'"
      ]
     },
     "execution_count": 19,
     "metadata": {},
     "output_type": "execute_result"
    }
   ],
   "source": [
    "pwd"
   ]
  },
  {
   "cell_type": "code",
   "execution_count": 22,
   "id": "de0ae77a",
   "metadata": {},
   "outputs": [],
   "source": [
    "df = pd.read_csv(\"test.csv\")"
   ]
  },
  {
   "cell_type": "code",
   "execution_count": 23,
   "id": "dae036b6",
   "metadata": {},
   "outputs": [
    {
     "name": "stdout",
     "output_type": "stream",
     "text": [
      "<class 'pandas.core.frame.DataFrame'>\n",
      "RangeIndex: 1 entries, 0 to 0\n",
      "Data columns (total 42 columns):\n",
      " #   Column           Non-Null Count  Dtype  \n",
      "---  ------           --------------  -----  \n",
      " 0   PID              1 non-null      float64\n",
      " 1   MS SubClass      1 non-null      float64\n",
      " 2   Lot Frontage     1 non-null      float64\n",
      " 3   Lot Area         1 non-null      float64\n",
      " 4   Alley            1 non-null      float64\n",
      " 5   Overall Qual     1 non-null      float64\n",
      " 6   Overall Cond     1 non-null      float64\n",
      " 7   Year Built       1 non-null      float64\n",
      " 8   Year Remod/Add   1 non-null      float64\n",
      " 9   Mas Vnr Area     1 non-null      float64\n",
      " 10  BsmtFin SF 1     1 non-null      float64\n",
      " 11  BsmtFin SF 2     1 non-null      float64\n",
      " 12  Bsmt Unf SF      1 non-null      float64\n",
      " 13  Total Bsmt SF    1 non-null      float64\n",
      " 14  1st Flr SF       1 non-null      float64\n",
      " 15  2nd Flr SF       1 non-null      float64\n",
      " 16  Low Qual Fin SF  1 non-null      float64\n",
      " 17  Gr Liv Area      1 non-null      float64\n",
      " 18  Bsmt Full Bath   1 non-null      float64\n",
      " 19  Bsmt Half Bath   1 non-null      float64\n",
      " 20  Full Bath        1 non-null      float64\n",
      " 21  Half Bath        1 non-null      float64\n",
      " 22  Bedroom AbvGr    1 non-null      float64\n",
      " 23  Kitchen AbvGr    1 non-null      float64\n",
      " 24  TotRms AbvGrd    1 non-null      float64\n",
      " 25  Fireplaces       1 non-null      float64\n",
      " 26  Garage Yr Blt    1 non-null      float64\n",
      " 27  Garage Cars      1 non-null      float64\n",
      " 28  Garage Area      1 non-null      float64\n",
      " 29  Wood Deck SF     1 non-null      float64\n",
      " 30  Open Porch SF    1 non-null      float64\n",
      " 31  Enclosed Porch   1 non-null      float64\n",
      " 32  3Ssn Porch       1 non-null      float64\n",
      " 33  Screen Porch     1 non-null      float64\n",
      " 34  Pool Area        1 non-null      float64\n",
      " 35  Pool QC          1 non-null      float64\n",
      " 36  Fence            1 non-null      float64\n",
      " 37  Misc Feature     1 non-null      float64\n",
      " 38  Misc Val         1 non-null      float64\n",
      " 39  Mo Sold          1 non-null      float64\n",
      " 40  Yr Sold          1 non-null      float64\n",
      " 41  SalePrice        1 non-null      float64\n",
      "dtypes: float64(42)\n",
      "memory usage: 464.0 bytes\n"
     ]
    }
   ],
   "source": [
    "df_nums = df.select_dtypes(exclude='object')\n",
    "df_objs = df.select_dtypes(include='object')\n",
    "df_objs = pd.get_dummies(df_objs,drop_first=True)\n",
    "final_df = pd.concat([df_nums,df_objs],axis=1)\n",
    "final_df = final_df.astype(float)\n",
    "final_df.info()"
   ]
  },
  {
   "cell_type": "code",
   "execution_count": 24,
   "id": "7726098f",
   "metadata": {},
   "outputs": [],
   "source": [
    "X = final_df.drop('SalePrice',axis = 1)\n",
    "y = final_df['SalePrice']"
   ]
  },
  {
   "cell_type": "code",
   "execution_count": 25,
   "id": "d3449b3f",
   "metadata": {},
   "outputs": [
    {
     "name": "stdout",
     "output_type": "stream",
     "text": [
      "<class 'pandas.core.frame.DataFrame'>\n",
      "RangeIndex: 1 entries, 0 to 0\n",
      "Data columns (total 41 columns):\n",
      " #   Column           Non-Null Count  Dtype  \n",
      "---  ------           --------------  -----  \n",
      " 0   PID              1 non-null      float64\n",
      " 1   MS SubClass      1 non-null      float64\n",
      " 2   Lot Frontage     1 non-null      float64\n",
      " 3   Lot Area         1 non-null      float64\n",
      " 4   Alley            1 non-null      float64\n",
      " 5   Overall Qual     1 non-null      float64\n",
      " 6   Overall Cond     1 non-null      float64\n",
      " 7   Year Built       1 non-null      float64\n",
      " 8   Year Remod/Add   1 non-null      float64\n",
      " 9   Mas Vnr Area     1 non-null      float64\n",
      " 10  BsmtFin SF 1     1 non-null      float64\n",
      " 11  BsmtFin SF 2     1 non-null      float64\n",
      " 12  Bsmt Unf SF      1 non-null      float64\n",
      " 13  Total Bsmt SF    1 non-null      float64\n",
      " 14  1st Flr SF       1 non-null      float64\n",
      " 15  2nd Flr SF       1 non-null      float64\n",
      " 16  Low Qual Fin SF  1 non-null      float64\n",
      " 17  Gr Liv Area      1 non-null      float64\n",
      " 18  Bsmt Full Bath   1 non-null      float64\n",
      " 19  Bsmt Half Bath   1 non-null      float64\n",
      " 20  Full Bath        1 non-null      float64\n",
      " 21  Half Bath        1 non-null      float64\n",
      " 22  Bedroom AbvGr    1 non-null      float64\n",
      " 23  Kitchen AbvGr    1 non-null      float64\n",
      " 24  TotRms AbvGrd    1 non-null      float64\n",
      " 25  Fireplaces       1 non-null      float64\n",
      " 26  Garage Yr Blt    1 non-null      float64\n",
      " 27  Garage Cars      1 non-null      float64\n",
      " 28  Garage Area      1 non-null      float64\n",
      " 29  Wood Deck SF     1 non-null      float64\n",
      " 30  Open Porch SF    1 non-null      float64\n",
      " 31  Enclosed Porch   1 non-null      float64\n",
      " 32  3Ssn Porch       1 non-null      float64\n",
      " 33  Screen Porch     1 non-null      float64\n",
      " 34  Pool Area        1 non-null      float64\n",
      " 35  Pool QC          1 non-null      float64\n",
      " 36  Fence            1 non-null      float64\n",
      " 37  Misc Feature     1 non-null      float64\n",
      " 38  Misc Val         1 non-null      float64\n",
      " 39  Mo Sold          1 non-null      float64\n",
      " 40  Yr Sold          1 non-null      float64\n",
      "dtypes: float64(41)\n",
      "memory usage: 456.0 bytes\n"
     ]
    }
   ],
   "source": [
    "X.info()"
   ]
  },
  {
   "cell_type": "code",
   "execution_count": 36,
   "id": "fc41ced2",
   "metadata": {},
   "outputs": [
    {
     "data": {
      "text/plain": [
       "(1, 2505433700)"
      ]
     },
     "execution_count": 36,
     "metadata": {},
     "output_type": "execute_result"
    }
   ],
   "source": [
    "from sklearn.preprocessing import PolynomialFeatures\n",
    "poly_feature = PolynomialFeatures(9)\n",
    "poly_X = poly_feature.fit_transform(X)\n",
    "poly_X.shape"
   ]
  },
  {
   "cell_type": "code",
   "execution_count": 38,
   "id": "3da5c330",
   "metadata": {},
   "outputs": [
    {
     "ename": "MemoryError",
     "evalue": "Unable to allocate 18.7 GiB for an array with shape (2505433700,) and data type int64",
     "output_type": "error",
     "traceback": [
      "\u001b[1;31m---------------------------------------------------------------------------\u001b[0m",
      "\u001b[1;31mMemoryError\u001b[0m                               Traceback (most recent call last)",
      "Cell \u001b[1;32mIn[38], line 2\u001b[0m\n\u001b[0;32m      1\u001b[0m new_df \u001b[38;5;241m=\u001b[39m pd\u001b[38;5;241m.\u001b[39mDataFrame(poly_X)\n\u001b[1;32m----> 2\u001b[0m \u001b[43mnew_df\u001b[49m\u001b[38;5;241;43m.\u001b[39;49m\u001b[43minfo\u001b[49m\u001b[43m(\u001b[49m\u001b[43m)\u001b[49m\n",
      "File \u001b[1;32m~\\AppData\\Local\\Programs\\Python\\Python311\\Lib\\site-packages\\pandas\\core\\frame.py:3358\u001b[0m, in \u001b[0;36mDataFrame.info\u001b[1;34m(self, verbose, buf, max_cols, memory_usage, show_counts)\u001b[0m\n\u001b[0;32m   3345\u001b[0m \u001b[38;5;129m@doc\u001b[39m(INFO_DOCSTRING, \u001b[38;5;241m*\u001b[39m\u001b[38;5;241m*\u001b[39mframe_sub_kwargs)\n\u001b[0;32m   3346\u001b[0m \u001b[38;5;28;01mdef\u001b[39;00m \u001b[38;5;21minfo\u001b[39m(\n\u001b[0;32m   3347\u001b[0m     \u001b[38;5;28mself\u001b[39m,\n\u001b[1;32m   (...)\u001b[0m\n\u001b[0;32m   3352\u001b[0m     show_counts: \u001b[38;5;28mbool\u001b[39m \u001b[38;5;241m|\u001b[39m \u001b[38;5;28;01mNone\u001b[39;00m \u001b[38;5;241m=\u001b[39m \u001b[38;5;28;01mNone\u001b[39;00m,\n\u001b[0;32m   3353\u001b[0m ) \u001b[38;5;241m-\u001b[39m\u001b[38;5;241m>\u001b[39m \u001b[38;5;28;01mNone\u001b[39;00m:\n\u001b[0;32m   3354\u001b[0m     info \u001b[38;5;241m=\u001b[39m DataFrameInfo(\n\u001b[0;32m   3355\u001b[0m         data\u001b[38;5;241m=\u001b[39m\u001b[38;5;28mself\u001b[39m,\n\u001b[0;32m   3356\u001b[0m         memory_usage\u001b[38;5;241m=\u001b[39mmemory_usage,\n\u001b[0;32m   3357\u001b[0m     )\n\u001b[1;32m-> 3358\u001b[0m     \u001b[43minfo\u001b[49m\u001b[38;5;241;43m.\u001b[39;49m\u001b[43mrender\u001b[49m\u001b[43m(\u001b[49m\n\u001b[0;32m   3359\u001b[0m \u001b[43m        \u001b[49m\u001b[43mbuf\u001b[49m\u001b[38;5;241;43m=\u001b[39;49m\u001b[43mbuf\u001b[49m\u001b[43m,\u001b[49m\n\u001b[0;32m   3360\u001b[0m \u001b[43m        \u001b[49m\u001b[43mmax_cols\u001b[49m\u001b[38;5;241;43m=\u001b[39;49m\u001b[43mmax_cols\u001b[49m\u001b[43m,\u001b[49m\n\u001b[0;32m   3361\u001b[0m \u001b[43m        \u001b[49m\u001b[43mverbose\u001b[49m\u001b[38;5;241;43m=\u001b[39;49m\u001b[43mverbose\u001b[49m\u001b[43m,\u001b[49m\n\u001b[0;32m   3362\u001b[0m \u001b[43m        \u001b[49m\u001b[43mshow_counts\u001b[49m\u001b[38;5;241;43m=\u001b[39;49m\u001b[43mshow_counts\u001b[49m\u001b[43m,\u001b[49m\n\u001b[0;32m   3363\u001b[0m \u001b[43m    \u001b[49m\u001b[43m)\u001b[49m\n",
      "File \u001b[1;32m~\\AppData\\Local\\Programs\\Python\\Python311\\Lib\\site-packages\\pandas\\io\\formats\\info.py:511\u001b[0m, in \u001b[0;36mDataFrameInfo.render\u001b[1;34m(self, buf, max_cols, verbose, show_counts)\u001b[0m\n\u001b[0;32m    497\u001b[0m \u001b[38;5;28;01mdef\u001b[39;00m \u001b[38;5;21mrender\u001b[39m(\n\u001b[0;32m    498\u001b[0m     \u001b[38;5;28mself\u001b[39m,\n\u001b[0;32m    499\u001b[0m     \u001b[38;5;241m*\u001b[39m,\n\u001b[1;32m   (...)\u001b[0m\n\u001b[0;32m    503\u001b[0m     show_counts: \u001b[38;5;28mbool\u001b[39m \u001b[38;5;241m|\u001b[39m \u001b[38;5;28;01mNone\u001b[39;00m,\n\u001b[0;32m    504\u001b[0m ) \u001b[38;5;241m-\u001b[39m\u001b[38;5;241m>\u001b[39m \u001b[38;5;28;01mNone\u001b[39;00m:\n\u001b[0;32m    505\u001b[0m     printer \u001b[38;5;241m=\u001b[39m DataFrameInfoPrinter(\n\u001b[0;32m    506\u001b[0m         info\u001b[38;5;241m=\u001b[39m\u001b[38;5;28mself\u001b[39m,\n\u001b[0;32m    507\u001b[0m         max_cols\u001b[38;5;241m=\u001b[39mmax_cols,\n\u001b[0;32m    508\u001b[0m         verbose\u001b[38;5;241m=\u001b[39mverbose,\n\u001b[0;32m    509\u001b[0m         show_counts\u001b[38;5;241m=\u001b[39mshow_counts,\n\u001b[0;32m    510\u001b[0m     )\n\u001b[1;32m--> 511\u001b[0m     \u001b[43mprinter\u001b[49m\u001b[38;5;241;43m.\u001b[39;49m\u001b[43mto_buffer\u001b[49m\u001b[43m(\u001b[49m\u001b[43mbuf\u001b[49m\u001b[43m)\u001b[49m\n",
      "File \u001b[1;32m~\\AppData\\Local\\Programs\\Python\\Python311\\Lib\\site-packages\\pandas\\io\\formats\\info.py:582\u001b[0m, in \u001b[0;36mInfoPrinterAbstract.to_buffer\u001b[1;34m(self, buf)\u001b[0m\n\u001b[0;32m    580\u001b[0m \u001b[38;5;124;03m\"\"\"Save dataframe info into buffer.\"\"\"\u001b[39;00m\n\u001b[0;32m    581\u001b[0m table_builder \u001b[38;5;241m=\u001b[39m \u001b[38;5;28mself\u001b[39m\u001b[38;5;241m.\u001b[39m_create_table_builder()\n\u001b[1;32m--> 582\u001b[0m lines \u001b[38;5;241m=\u001b[39m \u001b[43mtable_builder\u001b[49m\u001b[38;5;241;43m.\u001b[39;49m\u001b[43mget_lines\u001b[49m\u001b[43m(\u001b[49m\u001b[43m)\u001b[49m\n\u001b[0;32m    583\u001b[0m \u001b[38;5;28;01mif\u001b[39;00m buf \u001b[38;5;129;01mis\u001b[39;00m \u001b[38;5;28;01mNone\u001b[39;00m:  \u001b[38;5;66;03m# pragma: no cover\u001b[39;00m\n\u001b[0;32m    584\u001b[0m     buf \u001b[38;5;241m=\u001b[39m sys\u001b[38;5;241m.\u001b[39mstdout\n",
      "File \u001b[1;32m~\\AppData\\Local\\Programs\\Python\\Python311\\Lib\\site-packages\\pandas\\io\\formats\\info.py:790\u001b[0m, in \u001b[0;36mDataFrameTableBuilder.get_lines\u001b[1;34m(self)\u001b[0m\n\u001b[0;32m    788\u001b[0m     \u001b[38;5;28mself\u001b[39m\u001b[38;5;241m.\u001b[39m_fill_empty_info()\n\u001b[0;32m    789\u001b[0m \u001b[38;5;28;01melse\u001b[39;00m:\n\u001b[1;32m--> 790\u001b[0m     \u001b[38;5;28;43mself\u001b[39;49m\u001b[38;5;241;43m.\u001b[39;49m\u001b[43m_fill_non_empty_info\u001b[49m\u001b[43m(\u001b[49m\u001b[43m)\u001b[49m\n\u001b[0;32m    791\u001b[0m \u001b[38;5;28;01mreturn\u001b[39;00m \u001b[38;5;28mself\u001b[39m\u001b[38;5;241m.\u001b[39m_lines\n",
      "File \u001b[1;32m~\\AppData\\Local\\Programs\\Python\\Python311\\Lib\\site-packages\\pandas\\io\\formats\\info.py:833\u001b[0m, in \u001b[0;36mDataFrameTableBuilderNonVerbose._fill_non_empty_info\u001b[1;34m(self)\u001b[0m\n\u001b[0;32m    831\u001b[0m \u001b[38;5;28mself\u001b[39m\u001b[38;5;241m.\u001b[39madd_index_range_line()\n\u001b[0;32m    832\u001b[0m \u001b[38;5;28mself\u001b[39m\u001b[38;5;241m.\u001b[39madd_columns_summary_line()\n\u001b[1;32m--> 833\u001b[0m \u001b[38;5;28;43mself\u001b[39;49m\u001b[38;5;241;43m.\u001b[39;49m\u001b[43madd_dtypes_line\u001b[49m\u001b[43m(\u001b[49m\u001b[43m)\u001b[49m\n\u001b[0;32m    834\u001b[0m \u001b[38;5;28;01mif\u001b[39;00m \u001b[38;5;28mself\u001b[39m\u001b[38;5;241m.\u001b[39mdisplay_memory_usage:\n\u001b[0;32m    835\u001b[0m     \u001b[38;5;28mself\u001b[39m\u001b[38;5;241m.\u001b[39madd_memory_usage_line()\n",
      "File \u001b[1;32m~\\AppData\\Local\\Programs\\Python\\Python311\\Lib\\site-packages\\pandas\\io\\formats\\info.py:767\u001b[0m, in \u001b[0;36mTableBuilderAbstract.add_dtypes_line\u001b[1;34m(self)\u001b[0m\n\u001b[0;32m    764\u001b[0m \u001b[38;5;28;01mdef\u001b[39;00m \u001b[38;5;21madd_dtypes_line\u001b[39m(\u001b[38;5;28mself\u001b[39m) \u001b[38;5;241m-\u001b[39m\u001b[38;5;241m>\u001b[39m \u001b[38;5;28;01mNone\u001b[39;00m:\n\u001b[0;32m    765\u001b[0m     \u001b[38;5;124;03m\"\"\"Add summary line with dtypes present in dataframe.\"\"\"\u001b[39;00m\n\u001b[0;32m    766\u001b[0m     collected_dtypes \u001b[38;5;241m=\u001b[39m [\n\u001b[1;32m--> 767\u001b[0m         \u001b[38;5;124mf\u001b[39m\u001b[38;5;124m\"\u001b[39m\u001b[38;5;132;01m{\u001b[39;00mkey\u001b[38;5;132;01m}\u001b[39;00m\u001b[38;5;124m(\u001b[39m\u001b[38;5;132;01m{\u001b[39;00mval\u001b[38;5;132;01m:\u001b[39;00m\u001b[38;5;124md\u001b[39m\u001b[38;5;132;01m}\u001b[39;00m\u001b[38;5;124m)\u001b[39m\u001b[38;5;124m\"\u001b[39m \u001b[38;5;28;01mfor\u001b[39;00m key, val \u001b[38;5;129;01min\u001b[39;00m \u001b[38;5;28msorted\u001b[39m(\u001b[38;5;28;43mself\u001b[39;49m\u001b[38;5;241;43m.\u001b[39;49m\u001b[43mdtype_counts\u001b[49m\u001b[38;5;241m.\u001b[39mitems())\n\u001b[0;32m    768\u001b[0m     ]\n\u001b[0;32m    769\u001b[0m     \u001b[38;5;28mself\u001b[39m\u001b[38;5;241m.\u001b[39m_lines\u001b[38;5;241m.\u001b[39mappend(\u001b[38;5;124mf\u001b[39m\u001b[38;5;124m\"\u001b[39m\u001b[38;5;124mdtypes: \u001b[39m\u001b[38;5;132;01m{\u001b[39;00m\u001b[38;5;124m'\u001b[39m\u001b[38;5;124m, \u001b[39m\u001b[38;5;124m'\u001b[39m\u001b[38;5;241m.\u001b[39mjoin(collected_dtypes)\u001b[38;5;132;01m}\u001b[39;00m\u001b[38;5;124m\"\u001b[39m)\n",
      "File \u001b[1;32m~\\AppData\\Local\\Programs\\Python\\Python311\\Lib\\site-packages\\pandas\\io\\formats\\info.py:740\u001b[0m, in \u001b[0;36mTableBuilderAbstract.dtype_counts\u001b[1;34m(self)\u001b[0m\n\u001b[0;32m    737\u001b[0m \u001b[38;5;129m@property\u001b[39m\n\u001b[0;32m    738\u001b[0m \u001b[38;5;28;01mdef\u001b[39;00m \u001b[38;5;21mdtype_counts\u001b[39m(\u001b[38;5;28mself\u001b[39m) \u001b[38;5;241m-\u001b[39m\u001b[38;5;241m>\u001b[39m Mapping[\u001b[38;5;28mstr\u001b[39m, \u001b[38;5;28mint\u001b[39m]:\n\u001b[0;32m    739\u001b[0m     \u001b[38;5;124;03m\"\"\"Mapping dtype - number of counts.\"\"\"\u001b[39;00m\n\u001b[1;32m--> 740\u001b[0m     \u001b[38;5;28;01mreturn\u001b[39;00m \u001b[38;5;28;43mself\u001b[39;49m\u001b[38;5;241;43m.\u001b[39;49m\u001b[43minfo\u001b[49m\u001b[38;5;241;43m.\u001b[39;49m\u001b[43mdtype_counts\u001b[49m\n",
      "File \u001b[1;32m~\\AppData\\Local\\Programs\\Python\\Python311\\Lib\\site-packages\\pandas\\io\\formats\\info.py:456\u001b[0m, in \u001b[0;36mDataFrameInfo.dtype_counts\u001b[1;34m(self)\u001b[0m\n\u001b[0;32m    454\u001b[0m \u001b[38;5;129m@property\u001b[39m\n\u001b[0;32m    455\u001b[0m \u001b[38;5;28;01mdef\u001b[39;00m \u001b[38;5;21mdtype_counts\u001b[39m(\u001b[38;5;28mself\u001b[39m) \u001b[38;5;241m-\u001b[39m\u001b[38;5;241m>\u001b[39m Mapping[\u001b[38;5;28mstr\u001b[39m, \u001b[38;5;28mint\u001b[39m]:\n\u001b[1;32m--> 456\u001b[0m     \u001b[38;5;28;01mreturn\u001b[39;00m \u001b[43m_get_dataframe_dtype_counts\u001b[49m\u001b[43m(\u001b[49m\u001b[38;5;28;43mself\u001b[39;49m\u001b[38;5;241;43m.\u001b[39;49m\u001b[43mdata\u001b[49m\u001b[43m)\u001b[49m\n",
      "File \u001b[1;32m~\\AppData\\Local\\Programs\\Python\\Python311\\Lib\\site-packages\\pandas\\io\\formats\\info.py:1101\u001b[0m, in \u001b[0;36m_get_dataframe_dtype_counts\u001b[1;34m(df)\u001b[0m\n\u001b[0;32m   1097\u001b[0m \u001b[38;5;124;03m\"\"\"\u001b[39;00m\n\u001b[0;32m   1098\u001b[0m \u001b[38;5;124;03mCreate mapping between datatypes and their number of occurrences.\u001b[39;00m\n\u001b[0;32m   1099\u001b[0m \u001b[38;5;124;03m\"\"\"\u001b[39;00m\n\u001b[0;32m   1100\u001b[0m \u001b[38;5;66;03m# groupby dtype.name to collect e.g. Categorical columns\u001b[39;00m\n\u001b[1;32m-> 1101\u001b[0m \u001b[38;5;28;01mreturn\u001b[39;00m \u001b[43mdf\u001b[49m\u001b[38;5;241;43m.\u001b[39;49m\u001b[43mdtypes\u001b[49m\u001b[38;5;241m.\u001b[39mvalue_counts()\u001b[38;5;241m.\u001b[39mgroupby(\u001b[38;5;28;01mlambda\u001b[39;00m x: x\u001b[38;5;241m.\u001b[39mname)\u001b[38;5;241m.\u001b[39msum()\n",
      "File \u001b[1;32m~\\AppData\\Local\\Programs\\Python\\Python311\\Lib\\site-packages\\pandas\\core\\generic.py:6158\u001b[0m, in \u001b[0;36mNDFrame.dtypes\u001b[1;34m(self)\u001b[0m\n\u001b[0;32m   6130\u001b[0m \u001b[38;5;129m@property\u001b[39m\n\u001b[0;32m   6131\u001b[0m \u001b[38;5;28;01mdef\u001b[39;00m \u001b[38;5;21mdtypes\u001b[39m(\u001b[38;5;28mself\u001b[39m):\n\u001b[0;32m   6132\u001b[0m     \u001b[38;5;124;03m\"\"\"\u001b[39;00m\n\u001b[0;32m   6133\u001b[0m \u001b[38;5;124;03m    Return the dtypes in the DataFrame.\u001b[39;00m\n\u001b[0;32m   6134\u001b[0m \n\u001b[1;32m   (...)\u001b[0m\n\u001b[0;32m   6156\u001b[0m \u001b[38;5;124;03m    dtype: object\u001b[39;00m\n\u001b[0;32m   6157\u001b[0m \u001b[38;5;124;03m    \"\"\"\u001b[39;00m\n\u001b[1;32m-> 6158\u001b[0m     data \u001b[38;5;241m=\u001b[39m \u001b[38;5;28;43mself\u001b[39;49m\u001b[38;5;241;43m.\u001b[39;49m\u001b[43m_mgr\u001b[49m\u001b[38;5;241;43m.\u001b[39;49m\u001b[43mget_dtypes\u001b[49m\u001b[43m(\u001b[49m\u001b[43m)\u001b[49m\n\u001b[0;32m   6159\u001b[0m     \u001b[38;5;28;01mreturn\u001b[39;00m \u001b[38;5;28mself\u001b[39m\u001b[38;5;241m.\u001b[39m_constructor_sliced(data, index\u001b[38;5;241m=\u001b[39m\u001b[38;5;28mself\u001b[39m\u001b[38;5;241m.\u001b[39m_info_axis, dtype\u001b[38;5;241m=\u001b[39mnp\u001b[38;5;241m.\u001b[39mobject_)\n",
      "File \u001b[1;32m~\\AppData\\Local\\Programs\\Python\\Python311\\Lib\\site-packages\\pandas\\core\\internals\\managers.py:278\u001b[0m, in \u001b[0;36mBaseBlockManager.get_dtypes\u001b[1;34m(self)\u001b[0m\n\u001b[0;32m    276\u001b[0m \u001b[38;5;28;01mdef\u001b[39;00m \u001b[38;5;21mget_dtypes\u001b[39m(\u001b[38;5;28mself\u001b[39m):\n\u001b[0;32m    277\u001b[0m     dtypes \u001b[38;5;241m=\u001b[39m np\u001b[38;5;241m.\u001b[39marray([blk\u001b[38;5;241m.\u001b[39mdtype \u001b[38;5;28;01mfor\u001b[39;00m blk \u001b[38;5;129;01min\u001b[39;00m \u001b[38;5;28mself\u001b[39m\u001b[38;5;241m.\u001b[39mblocks])\n\u001b[1;32m--> 278\u001b[0m     \u001b[38;5;28;01mreturn\u001b[39;00m dtypes\u001b[38;5;241m.\u001b[39mtake(\u001b[38;5;28;43mself\u001b[39;49m\u001b[38;5;241;43m.\u001b[39;49m\u001b[43mblknos\u001b[49m)\n",
      "File \u001b[1;32m~\\AppData\\Local\\Programs\\Python\\Python311\\Lib\\site-packages\\pandas\\core\\internals\\managers.py:179\u001b[0m, in \u001b[0;36mBaseBlockManager.blknos\u001b[1;34m(self)\u001b[0m\n\u001b[0;32m    169\u001b[0m \u001b[38;5;124;03m\"\"\"\u001b[39;00m\n\u001b[0;32m    170\u001b[0m \u001b[38;5;124;03mSuppose we want to find the array corresponding to our i'th column.\u001b[39;00m\n\u001b[0;32m    171\u001b[0m \n\u001b[1;32m   (...)\u001b[0m\n\u001b[0;32m    175\u001b[0m \u001b[38;5;124;03mself.blocks[self.blknos[i]]\u001b[39;00m\n\u001b[0;32m    176\u001b[0m \u001b[38;5;124;03m\"\"\"\u001b[39;00m\n\u001b[0;32m    177\u001b[0m \u001b[38;5;28;01mif\u001b[39;00m \u001b[38;5;28mself\u001b[39m\u001b[38;5;241m.\u001b[39m_blknos \u001b[38;5;129;01mis\u001b[39;00m \u001b[38;5;28;01mNone\u001b[39;00m:\n\u001b[0;32m    178\u001b[0m     \u001b[38;5;66;03m# Note: these can be altered by other BlockManager methods.\u001b[39;00m\n\u001b[1;32m--> 179\u001b[0m     \u001b[38;5;28;43mself\u001b[39;49m\u001b[38;5;241;43m.\u001b[39;49m\u001b[43m_rebuild_blknos_and_blklocs\u001b[49m\u001b[43m(\u001b[49m\u001b[43m)\u001b[49m\n\u001b[0;32m    181\u001b[0m \u001b[38;5;28;01mreturn\u001b[39;00m \u001b[38;5;28mself\u001b[39m\u001b[38;5;241m.\u001b[39m_blknos\n",
      "File \u001b[1;32m~\\AppData\\Local\\Programs\\Python\\Python311\\Lib\\site-packages\\pandas\\_libs\\internals.pyx:755\u001b[0m, in \u001b[0;36mpandas._libs.internals.BlockManager._rebuild_blknos_and_blklocs\u001b[1;34m()\u001b[0m\n",
      "\u001b[1;31mMemoryError\u001b[0m: Unable to allocate 18.7 GiB for an array with shape (2505433700,) and data type int64"
     ]
    }
   ],
   "source": [
    "new_df = pd.DataFrame(poly_X)\n",
    "new_df.info()"
   ]
  },
  {
   "cell_type": "code",
   "execution_count": null,
   "id": "81d95941",
   "metadata": {},
   "outputs": [],
   "source": []
  },
  {
   "cell_type": "code",
   "execution_count": null,
   "id": "4c9a8539",
   "metadata": {},
   "outputs": [],
   "source": []
  },
  {
   "cell_type": "code",
   "execution_count": null,
   "id": "97d5cbb8",
   "metadata": {},
   "outputs": [],
   "source": []
  }
 ],
 "metadata": {
  "kernelspec": {
   "display_name": "Python 3 (ipykernel)",
   "language": "python",
   "name": "python3"
  },
  "language_info": {
   "codemirror_mode": {
    "name": "ipython",
    "version": 3
   },
   "file_extension": ".py",
   "mimetype": "text/x-python",
   "name": "python",
   "nbconvert_exporter": "python",
   "pygments_lexer": "ipython3",
   "version": "3.11.1"
  }
 },
 "nbformat": 4,
 "nbformat_minor": 5
}
